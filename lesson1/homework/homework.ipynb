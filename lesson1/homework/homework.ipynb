{
 "cells": [
  {
   "cell_type": "markdown",
   "metadata": {},
   "source": [
    "# Задание"
   ]
  },
  {
   "cell_type": "code",
   "execution_count": 9,
   "metadata": {},
   "outputs": [],
   "source": [
    "import numpy as np"
   ]
  },
  {
   "cell_type": "markdown",
   "metadata": {},
   "source": [
    "Сравните метрики hit_rate@k, precision@k.  \n",
    "Какую метрику использовать предпочтительно и почему?  "
   ]
  },
  {
   "cell_type": "markdown",
   "metadata": {},
   "source": [
    "### Ответ\n",
    "**hit_rate@k** - менее информативна, т.к. отмечает лишь факт наличия успешной рекомендации. Может использоваться когда ожидается только одна покупка.\n",
    "\n",
    "**precision@k** - более информативна, т.к. показывает степень успешности предложенных рекомендаций    \n",
    "(в процентном соотношении сколько товаров из числа предложенных было куплено)\n",
    "\n",
    "Предполагаю, что precision@k предпочтительнее, т.к. содержит в себе как степень успешности, так и факт наличия успешной рекомендации"
   ]
  },
  {
   "cell_type": "markdown",
   "metadata": {},
   "source": [
    "Приведите пример 2-3 задач (опишите, что является клиентом, что товаром), в которой более уместно использовать метрику hit_rate?  "
   ]
  },
  {
   "cell_type": "markdown",
   "metadata": {},
   "source": [
    "1) Подбор цвета конкретной модели шапки по фотографии человека в онлайн магазине:  \n",
    "**П** - фотография  \n",
    "**Т** - шапки разных цветов  \n",
    "\n",
    "2) Подбор цвета iphone 12 по профилю и истории покупок магазина:  \n",
    "**П** - клиент  \n",
    "**Т** - устройства разных цветов\n",
    "\n",
    "Похоже что hit_rate (отражающий факт покупки хотя бы одного из рекомендованных товаров) целесообразно применять, когда нужно сделать рекомендацию в рамках одного товара или группы тесно связанных, но взаимно исключающих товаров (вряд ли покупателю нужны сразу 2 похожие шапки разных цветов)"
   ]
  },
  {
   "cell_type": "markdown",
   "metadata": {},
   "source": [
    "## Задание\n",
    "\n",
    "В метрике NDCG@k мы используем логарифм в знаменателе.  \n",
    "Как Вы думаете, почему именно логарифм?  \n",
    "Какую функцию можно использовать вместо логарифма?  \n",
    "Приведите пример метрик/подходов к предобработке данных/функций ошибок в ML, где также в знаменателе присутствует логарифм.  \n",
    "**Precision, Recall, F-score, R2**"
   ]
  },
  {
   "source": [
    "Попробую рассуждать, исходя из того, что я знаю о логарифме:\n",
    "\n",
    "1) logN растет медленее N => значит метрика \n",
    "$$DCG = \\frac{1}{|r|} \\sum_u{\\frac{[bought fact]}{discount(i)}}$$\n",
    "\n",
    "будет расти медленнее, чем например\n",
    "$$AP@k = \\frac{1}{K} \\sum{[recommended_{relevant_i}] * precision@k}$$\n",
    "\n",
    "следовательно штраф за неправильное предсказание в NDCG будет меньше, чем в AP\n",
    "\n",
    "2) вместо логарифма можно, видимо, использовать другую функцию, которая растет медленнее, чем $N$, например $\\sqrt{N}$\n",
    "\n",
    "ОДЗ у подлогарифменного выражения и подкоренного выражения у корня квадратного одинаковые - $f(x) > 0$\n",
    "\n",
    "3) логарифмирование применялось в нашем курсе для нормализации, когда разброс значений отличается на порядки. И, кажется в kNN, чтобы разница между классами была более явной. Ну и в LogLoss. \n",
    "Но там он был не в знаменателе"
   ],
   "cell_type": "markdown",
   "metadata": {}
  },
  {
   "cell_type": "markdown",
   "metadata": {},
   "source": [
    "## Задание\n",
    " \n",
    "Какие еще метрики (Вы можете вспомнить уже пройденные Вами или посмотреть в интернете) могут использоваться для рекомендательных систем (приведите примеры метрики и чем являются интеракции, чтобы она могла быть использована).  "
   ]
  },
  {
   "source": [
    "ROC AUC - Насколько высока концентрация интересных товаров в начале списка рекомендаций (может применяться там же, где и precision)\n",
    "\n",
    "WTA (winner takes all) = 1, если топ-рекомендация с самым большим предсказанным рейтингом из просмотренных пользователем получила положительную оценку, иначе 0.\n"
   ],
   "cell_type": "markdown",
   "metadata": {}
  },
  {
   "cell_type": "markdown",
   "metadata": {},
   "source": [
    "boughted = [1, 3, 5, 7, 9, 11], recommended = [2, 5, 7, 4, 11, 9, 8, 10, 12, 3]  \n",
    "Посчитайте на этих данных pr@8, rec@8, AP@8, NDCG@8, RR@8, ERR@8"
   ]
  },
  {
   "source": [
    "bought = 1, 3, 5, 7, 9, 11\n",
    "recommended = 2, 5, 7, 4, 11, 9, 8, 10, 12, 3\n",
    "\n",
    "def precision_at_k(recommended_list, bought_list, k=8):\n",
    "    bought_list = np.array(bought_list)\n",
    "    recommended_list = np.array(recommended_list)[:k]\n",
    "    flags = np.isin(bought_list, recommended_list)\n",
    "    precision = flags.sum() / len(recommended_list)\n",
    "    \n",
    "    return precision\n",
    "\n",
    "def recall_at_k(recommended_list, bought_list, k=8):\n",
    "    bought_list = np.array(bought_list)\n",
    "    recommended_list = np.array(recommended_list)[:k]\n",
    "    flags = np.isin(bought_list, recommended_list)\n",
    "    recall = flags.sum() / len(bought_list)\n",
    "    \n",
    "    return recall\n",
    "  \n",
    "def avg_precision_at_k(recommended_list, bought_list, k=5):\n",
    "    bought_list = np.array(bought_list)\n",
    "    recommended_list = np.array(recommended_list)\n",
    "    flags = np.isin(recommended_list, bought_list)\n",
    "    \n",
    "    if sum(flags) == 0:\n",
    "        return 0\n",
    "    \n",
    "    total_sum = 0\n",
    "    for i in range(1, k+1): \n",
    "        if flags[i] == True:\n",
    "            p_k = precision_at_k(recommended_list, bought_list, k=i)\n",
    "            total_sum += p_k\n",
    "            \n",
    "    result = total_sum / sum(flags)\n",
    "    \n",
    "    return result\n",
    "\n",
    "# Normalized discounted cumulative gain\n",
    "def ndcg_at_k(recommended_list, bought_list, k=8): \n",
    "    recommended_list = np.array(recommended_list)\n",
    "    kDCG_k = bought_list.count(recommended_list[0])\n",
    "    \n",
    "    t = 1\n",
    "    for i in recommended_list[1:k]:\n",
    "        t += 1\n",
    "        n = bought_list.count(i)\n",
    "        kDCG_k += n / np.log10(t)\n",
    "\n",
    "    t = 1\n",
    "    kiDCG_k = 1\n",
    "\n",
    "    for i in range(1,k):\n",
    "        t += 1\n",
    "        kiDCG_k = kiDCG_k + 1 / np.log10(t)\n",
    "\n",
    "\n",
    "    return kDCG_k / kiDCG_k\n",
    "\n",
    "def reciprocal_rank_at_k(recommended_list, bought_list, k=8):\n",
    "    n=0\n",
    "    for i in recommended_list[:k]:\n",
    "        n += bought_list.count(i)\n",
    "\n",
    "    return n/k\n",
    "\n",
    "\n",
    "# ERR@8\n",
    "def err_k(recommended_list, bought_list, k=8):\n",
    "    bought_list = np.array(bought_list)\n",
    "    recommended_list = np.array(recommended_list[:k])\n",
    "    relevant_items_list = [(recommended_list[i] in bought_list) for i in range(recommended_list.shape[0])]\n",
    "    relevant_item_rank = [i+1 for i in range(len(relevant_items_list)) if relevant_items_list[i]]    \n",
    "    \n",
    "    p_k = np.zeros(k)    \n",
    "    for i in range(k):\n",
    "        p_k[i] = (2**relevant_items_list[i] - 1) / (2**1 - 1)   \n",
    "   \n",
    "    P_k = np.zeros(k)    \n",
    "    P_k[0] = p_k[0]\n",
    "    for i in range(1, k):\n",
    "        P_k[i] = p_k[i]\n",
    "        for j in range(1, i):\n",
    "            P_k[i] *= (1 - p_k[j]) \n",
    "        P_k[i] = P_k[i] / k\n",
    "   \n",
    "    return sum(P_k)"
   ],
   "cell_type": "code",
   "metadata": {},
   "execution_count": 19,
   "outputs": []
  },
  {
   "cell_type": "code",
   "execution_count": 20,
   "metadata": {},
   "outputs": [
    {
     "output_type": "stream",
     "name": "stdout",
     "text": [
      "PR@8: 0.5\nREC@8: 0.6666666666666666\nAP@8: 0.32\nNDCG@8: 0.6215894130709897\nRR@8 : 0.5\nERR@8: 0.125\n"
     ]
    }
   ],
   "source": [
    "test_cases = [\n",
    "    [\"PR@8:\", precision_at_k],  \n",
    "    [\"REC@8:\", recall_at_k], \n",
    "    [\"AP@8:\", avg_precision_at_k], \n",
    "    [\"NDCG@8:\", ndcg_at_k], \n",
    "    [\"RR@8 :\", reciprocal_rank_at_k], \n",
    "    [\"ERR@8:\", err_k],\n",
    "]\n",
    "\n",
    "for test_case in test_cases:\n",
    "    print(test_case[0], str(test_case[1](recommended, boughted, 8)))\n"
   ]
  },
  {
   "cell_type": "code",
   "execution_count": null,
   "metadata": {},
   "outputs": [],
   "source": []
  }
 ],
 "metadata": {
  "kernelspec": {
   "display_name": "Python 3",
   "language": "python",
   "name": "python3"
  },
  "language_info": {
   "codemirror_mode": {
    "name": "ipython",
    "version": 3
   },
   "file_extension": ".py",
   "mimetype": "text/x-python",
   "name": "python",
   "nbconvert_exporter": "python",
   "pygments_lexer": "ipython3",
   "version": "3.9.0-final"
  }
 },
 "nbformat": 4,
 "nbformat_minor": 4
}