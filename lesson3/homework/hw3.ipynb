{
 "cells": [
  {
   "cell_type": "markdown",
   "metadata": {},
   "source": [
    "## Теоретическая часть"
   ]
  },
  {
   "cell_type": "markdown",
   "metadata": {},
   "source": [
    "**1.** Вспомним прошлый вебинар, мы рассматривали User-User рекомендации и Item-Item рекомендации.  \n",
    "- Чем они отличаются и чем они похожи?  \n",
    "- Если есть функция item_item_rec(interaction_matrix). Можно ли использовать эту функцию для user_user_rec?  \n",
    "- В чем принципиальные отличия item-item рекомендаций от ALS?\n"
   ]
  },
  {
   "cell_type": "markdown",
   "metadata": {},
   "source": [
    "**Ответ 1:**  \n",
    "Отличаются:  \n",
    "- Назначением\n",
    "  - Если нужно провести рекламную кампанию, то к товарам хорошо бы подобрать аудиторию\n",
    "  - Если товар был куплен, то хорошо бы сделать предложение для кросспродажи (чехол для iPad)\n",
    "- Размерностью (могут отличаться на порядки, например магазин устройств Apple)\n",
    "\n",
    "Похожи:\n",
    "- Сравнивают одинаковые сущности\n",
    "- Квадратные, а значит одни и те же алгоритмы мат. обработки должны подходить обоим матрицам\n",
    "\n",
    "**Ответ 2:**  \n",
    "Вероятно функции рекомендаций могут быть использованы обеими матрицами, если внутри нет какой-то специальной для этого типа объектов обработки.\n",
    "\n",
    "**Ответ 3:**  \n",
    "ALS - позволяет сэкономить место путем разбиения матрицы users-items на 2 матрицы\n",
    "item-item - нет разбиения матриц\n",
    "\n",
    "Предположение:\n",
    "item-item - для explicit систем\n",
    "ALS - для implicit систем\n",
    "\n"
   ]
  },
  {
   "cell_type": "markdown",
   "metadata": {},
   "source": [
    "**2.** Приведите 3 примера весов (те, которых не было на вебинаре: сумма покупок, количество покупок - неинтересно) user-item матрицы для задачи рекомендаций товаров \n"
   ]
  },
  {
   "cell_type": "markdown",
   "metadata": {},
   "source": [
    "1. **total_discount = retail_disc + coupon_disc + coupon_match_disc** *(суммарный процент скидки)*\n",
    "2. **total_discount_per_item = total_discount * sales_value** *(суммарная скидка на единицу товара)*\n",
    "3. **total_sum_discount = total_discount \\* quantity \\* sales_value** *(суммарная скидка на весь приобретенный товар данного типа)*"
   ]
  },
  {
   "cell_type": "markdown",
   "metadata": {},
   "source": [
    "**3.** Какие ограничения есть у ALS? (Тип информации, линейность/нелинейность факторов и т д)\n"
   ]
  },
  {
   "source": [
    "**Ответ**:  \n",
    "1. Учитывает только факт покупки пользователем товара  \n",
    "2. Требует больше времени/мощностей для вычислений  \n",
    "3. Хуже интерпретируется чем item-item"
   ],
   "cell_type": "markdown",
   "metadata": {}
  },
  {
   "cell_type": "markdown",
   "metadata": {},
   "source": [
    "**4.** Мы рассматривали bm_25_weight. \n",
    "Опишите, как он работает. Как сделать рекомендации только на основе bm_25? (Можно и нужно пользоваться любыми источниками, приложите на них ссылки). Какие еще способы перевзвешивания user-item матрицы Вы знаете / можете предложить (ещё 2-3 способа)?"
   ]
  },
  {
   "source": [
    "bm_25_weight использует параметр вхождения/невхождения. Больше, к сожалению, ничего не понял из статей. Гугление не помогло, надо разбирать на вебинаре.\n",
    "\n",
    "[https://habr.com/ru/post/162937/]\n",
    "\n",
    "[https://www.elastic.co/blog/practical-bm25-part-2-the-bm25-algorithm-and-its-variables]"
   ],
   "cell_type": "markdown",
   "metadata": {}
  },
  {
   "cell_type": "markdown",
   "metadata": {},
   "source": [
    "## Практическая часть\n"
   ]
  },
  {
   "cell_type": "code",
   "execution_count": 1,
   "metadata": {},
   "outputs": [],
   "source": [
    "import implicit\n",
    "import pandas as pd\n",
    "import numpy as np\n",
    "import matplotlib.pyplot as plt\n",
    "from scipy.sparse import csr_matrix\n",
    "from implicit.als import AlternatingLeastSquares\n",
    "from implicit.nearest_neighbours import bm25_weight, tfidf_weight\n",
    "import os, sys\n",
    "from implicit.evaluation import precision_at_k\n",
    "import warnings\n",
    "\n",
    "module_path = os.path.abspath(os.path.join(os.pardir))\n",
    "if module_path not in sys.path:\n",
    "    sys.path.append(module_path)\n",
    "\n",
    "warnings.filterwarnings('ignore')"
   ]
  },
  {
   "cell_type": "code",
   "execution_count": 2,
   "metadata": {},
   "outputs": [],
   "source": [
    "def precision_at_k(recommended_list, bought_list, k=8):\n",
    "    if type(bought_list) == str:\n",
    "        bought_str_list = bought_list[1:-1].split(', ')\n",
    "        bought_list = [int(item) for item in bought_str_list]\n",
    "\n",
    "    if type(recommended_list) == str:\n",
    "        bought_str_list = recommended_list[1:-1].split(', ')\n",
    "        recommended_list = [int(item) for item in bought_str_list]\n",
    "\n",
    "    bought_list = np.array(bought_list)\n",
    "    recommended_list = np.array(recommended_list)[:k]\n",
    "    flags = np.isin(bought_list, recommended_list)\n",
    "    precision = flags.sum() / len(recommended_list)\n",
    "\n",
    "    return precision"
   ]
  },
  {
   "cell_type": "code",
   "execution_count": 3,
   "metadata": {},
   "outputs": [
    {
     "output_type": "execute_result",
     "data": {
      "text/plain": [
       "   user_id    basket_id  day  item_id  quantity  sales_value  store_id  \\\n",
       "0     2375  26984851472    1  1004906         1         1.39       364   \n",
       "1     2375  26984851472    1  1033142         1         0.82       364   \n",
       "2     2375  26984851472    1  1036325         1         0.99       364   \n",
       "3     2375  26984851472    1  1082185         1         1.21       364   \n",
       "4     2375  26984851472    1  8160430         1         1.50       364   \n",
       "\n",
       "   retail_disc  trans_time  week_no  coupon_disc  coupon_match_disc  \n",
       "0        -0.60        1631        1          0.0                0.0  \n",
       "1         0.00        1631        1          0.0                0.0  \n",
       "2        -0.30        1631        1          0.0                0.0  \n",
       "3         0.00        1631        1          0.0                0.0  \n",
       "4        -0.39        1631        1          0.0                0.0  "
      ],
      "text/html": "<div>\n<style scoped>\n    .dataframe tbody tr th:only-of-type {\n        vertical-align: middle;\n    }\n\n    .dataframe tbody tr th {\n        vertical-align: top;\n    }\n\n    .dataframe thead th {\n        text-align: right;\n    }\n</style>\n<table border=\"1\" class=\"dataframe\">\n  <thead>\n    <tr style=\"text-align: right;\">\n      <th></th>\n      <th>user_id</th>\n      <th>basket_id</th>\n      <th>day</th>\n      <th>item_id</th>\n      <th>quantity</th>\n      <th>sales_value</th>\n      <th>store_id</th>\n      <th>retail_disc</th>\n      <th>trans_time</th>\n      <th>week_no</th>\n      <th>coupon_disc</th>\n      <th>coupon_match_disc</th>\n    </tr>\n  </thead>\n  <tbody>\n    <tr>\n      <th>0</th>\n      <td>2375</td>\n      <td>26984851472</td>\n      <td>1</td>\n      <td>1004906</td>\n      <td>1</td>\n      <td>1.39</td>\n      <td>364</td>\n      <td>-0.60</td>\n      <td>1631</td>\n      <td>1</td>\n      <td>0.0</td>\n      <td>0.0</td>\n    </tr>\n    <tr>\n      <th>1</th>\n      <td>2375</td>\n      <td>26984851472</td>\n      <td>1</td>\n      <td>1033142</td>\n      <td>1</td>\n      <td>0.82</td>\n      <td>364</td>\n      <td>0.00</td>\n      <td>1631</td>\n      <td>1</td>\n      <td>0.0</td>\n      <td>0.0</td>\n    </tr>\n    <tr>\n      <th>2</th>\n      <td>2375</td>\n      <td>26984851472</td>\n      <td>1</td>\n      <td>1036325</td>\n      <td>1</td>\n      <td>0.99</td>\n      <td>364</td>\n      <td>-0.30</td>\n      <td>1631</td>\n      <td>1</td>\n      <td>0.0</td>\n      <td>0.0</td>\n    </tr>\n    <tr>\n      <th>3</th>\n      <td>2375</td>\n      <td>26984851472</td>\n      <td>1</td>\n      <td>1082185</td>\n      <td>1</td>\n      <td>1.21</td>\n      <td>364</td>\n      <td>0.00</td>\n      <td>1631</td>\n      <td>1</td>\n      <td>0.0</td>\n      <td>0.0</td>\n    </tr>\n    <tr>\n      <th>4</th>\n      <td>2375</td>\n      <td>26984851472</td>\n      <td>1</td>\n      <td>8160430</td>\n      <td>1</td>\n      <td>1.50</td>\n      <td>364</td>\n      <td>-0.39</td>\n      <td>1631</td>\n      <td>1</td>\n      <td>0.0</td>\n      <td>0.0</td>\n    </tr>\n  </tbody>\n</table>\n</div>"
     },
     "metadata": {},
     "execution_count": 3
    }
   ],
   "source": [
    "data = pd.read_csv('./data/retail_train.csv')\n",
    "\n",
    "test_size_weeks = 3\n",
    "data_train = data[data['week_no'] < data['week_no'].max() - test_size_weeks]\n",
    "data_test = data[data['week_no'] >= data['week_no'].max() - test_size_weeks]\n",
    "\n",
    "data_train.head(5)"
   ]
  },
  {
   "cell_type": "code",
   "execution_count": 4,
   "metadata": {},
   "outputs": [
    {
     "output_type": "execute_result",
     "data": {
      "text/plain": [
       "   user_id                                             actual  \\\n",
       "0        1  [821867, 834484, 856942, 865456, 889248, 90795...   \n",
       "1        3  [835476, 851057, 872021, 878302, 879948, 90963...   \n",
       "\n",
       "                            random_recommendation  \\\n",
       "0   [12695716, 8068934, 12428458, 434997, 858425]   \n",
       "1  [13910611, 911878, 12301378, 9270394, 1109089]   \n",
       "\n",
       "                          popular_recommendation  \\\n",
       "0  [6534178, 6533889, 1029743, 6534166, 1082185]   \n",
       "1  [6534178, 6533889, 1029743, 6534166, 1082185]   \n",
       "\n",
       "                                     itemitem  \\\n",
       "0  [999999, 1082185, 981760, 1127831, 995242]   \n",
       "1  [999999, 1082185, 981760, 1098066, 995242]   \n",
       "\n",
       "                                        cosine  \\\n",
       "0  [1082185, 999999, 981760, 1127831, 1098066]   \n",
       "1   [1082185, 1098066, 981760, 999999, 826249]   \n",
       "\n",
       "                                         tfidf  \\\n",
       "0  [1082185, 981760, 1127831, 999999, 1098066]   \n",
       "1   [1082185, 981760, 1098066, 826249, 999999]   \n",
       "\n",
       "                                  own_purchases  \n",
       "0   [999999, 1082185, 1029743, 995785, 1004906]  \n",
       "1  [999999, 1082185, 1098066, 6534178, 1127831]  "
      ],
      "text/html": "<div>\n<style scoped>\n    .dataframe tbody tr th:only-of-type {\n        vertical-align: middle;\n    }\n\n    .dataframe tbody tr th {\n        vertical-align: top;\n    }\n\n    .dataframe thead th {\n        text-align: right;\n    }\n</style>\n<table border=\"1\" class=\"dataframe\">\n  <thead>\n    <tr style=\"text-align: right;\">\n      <th></th>\n      <th>user_id</th>\n      <th>actual</th>\n      <th>random_recommendation</th>\n      <th>popular_recommendation</th>\n      <th>itemitem</th>\n      <th>cosine</th>\n      <th>tfidf</th>\n      <th>own_purchases</th>\n    </tr>\n  </thead>\n  <tbody>\n    <tr>\n      <th>0</th>\n      <td>1</td>\n      <td>[821867, 834484, 856942, 865456, 889248, 90795...</td>\n      <td>[12695716, 8068934, 12428458, 434997, 858425]</td>\n      <td>[6534178, 6533889, 1029743, 6534166, 1082185]</td>\n      <td>[999999, 1082185, 981760, 1127831, 995242]</td>\n      <td>[1082185, 999999, 981760, 1127831, 1098066]</td>\n      <td>[1082185, 981760, 1127831, 999999, 1098066]</td>\n      <td>[999999, 1082185, 1029743, 995785, 1004906]</td>\n    </tr>\n    <tr>\n      <th>1</th>\n      <td>3</td>\n      <td>[835476, 851057, 872021, 878302, 879948, 90963...</td>\n      <td>[13910611, 911878, 12301378, 9270394, 1109089]</td>\n      <td>[6534178, 6533889, 1029743, 6534166, 1082185]</td>\n      <td>[999999, 1082185, 981760, 1098066, 995242]</td>\n      <td>[1082185, 1098066, 981760, 999999, 826249]</td>\n      <td>[1082185, 981760, 1098066, 826249, 999999]</td>\n      <td>[999999, 1082185, 1098066, 6534178, 1127831]</td>\n    </tr>\n  </tbody>\n</table>\n</div>"
     },
     "metadata": {},
     "execution_count": 4
    }
   ],
   "source": [
    "result = pd.read_csv('./data/predictions_basic.csv')\n",
    "result.head(2)"
   ]
  },
  {
   "cell_type": "markdown",
   "metadata": {},
   "source": [
    "### Подбор матрицы $c_{ui}$\n",
    "Попробуйте различные варианты матрицы весов (3+ вариантов). Обучите алгоритм для различных $C$. В качестве результата приведите таблицу: матрица весов - результат на train и validation.\n",
    "Сделате качественные выводы.\n"
   ]
  },
  {
   "cell_type": "markdown",
   "metadata": {},
   "source": [
    "### Оптимизация гипперпараметров\n",
    "Для лучшей матрицы весов из первого задания подберите оптимальные $\\lambda$ и n_factors. Подбор можно делать вручную (цикл в цикле, аналог sklearn.GridSearch, или случайно - sklearn.GridSearch). Или Вы можете воспользоваться библиотеками для автоматического подбора гипперпараметров (любые на Ваш вкус). В качестве результата постройте графики:  \n",
    "1. Значение параметра - время обучения  \n",
    "2. Значение параметра - качество train, качество validation  \n",
    "\n",
    "Сделайте качественные выводы"
   ]
  },
  {
   "cell_type": "markdown",
   "metadata": {},
   "source": [
    "**P.S.** Не пишите отписки в качестве выводов. Мне интресены Ваши рассуждения, трудности, с которыми Вы сталкнулись и что-то, что Вас удивило. Если выводы контринтуитивны - напишите об этом, в этом нет ничего страшного!"
   ]
  },
  {
   "cell_type": "code",
   "execution_count": 17,
   "metadata": {},
   "outputs": [
    {
     "output_type": "execute_result",
     "data": {
      "text/plain": [
       "   product_id  manufacturer    department     brand            commodity_desc  \\\n",
       "0       25671             2       GROCERY  National                  FRZN ICE   \n",
       "1       26081             2  MISC. TRANS.  National  NO COMMODITY DESCRIPTION   \n",
       "2       26093            69        PASTRY   Private                     BREAD   \n",
       "3       26190            69       GROCERY   Private      FRUIT - SHELF STABLE   \n",
       "4       26355            69       GROCERY   Private             COOKIES/CONES   \n",
       "\n",
       "            sub_commodity_desc curr_size_of_product  \n",
       "0          ICE - CRUSHED/CUBED                22 LB  \n",
       "1  NO SUBCOMMODITY DESCRIPTION                       \n",
       "2         BREAD:ITALIAN/FRENCH                       \n",
       "3                  APPLE SAUCE                50 OZ  \n",
       "4            SPECIALTY COOKIES                14 OZ  "
      ],
      "text/html": "<div>\n<style scoped>\n    .dataframe tbody tr th:only-of-type {\n        vertical-align: middle;\n    }\n\n    .dataframe tbody tr th {\n        vertical-align: top;\n    }\n\n    .dataframe thead th {\n        text-align: right;\n    }\n</style>\n<table border=\"1\" class=\"dataframe\">\n  <thead>\n    <tr style=\"text-align: right;\">\n      <th></th>\n      <th>product_id</th>\n      <th>manufacturer</th>\n      <th>department</th>\n      <th>brand</th>\n      <th>commodity_desc</th>\n      <th>sub_commodity_desc</th>\n      <th>curr_size_of_product</th>\n    </tr>\n  </thead>\n  <tbody>\n    <tr>\n      <th>0</th>\n      <td>25671</td>\n      <td>2</td>\n      <td>GROCERY</td>\n      <td>National</td>\n      <td>FRZN ICE</td>\n      <td>ICE - CRUSHED/CUBED</td>\n      <td>22 LB</td>\n    </tr>\n    <tr>\n      <th>1</th>\n      <td>26081</td>\n      <td>2</td>\n      <td>MISC. TRANS.</td>\n      <td>National</td>\n      <td>NO COMMODITY DESCRIPTION</td>\n      <td>NO SUBCOMMODITY DESCRIPTION</td>\n      <td></td>\n    </tr>\n    <tr>\n      <th>2</th>\n      <td>26093</td>\n      <td>69</td>\n      <td>PASTRY</td>\n      <td>Private</td>\n      <td>BREAD</td>\n      <td>BREAD:ITALIAN/FRENCH</td>\n      <td></td>\n    </tr>\n    <tr>\n      <th>3</th>\n      <td>26190</td>\n      <td>69</td>\n      <td>GROCERY</td>\n      <td>Private</td>\n      <td>FRUIT - SHELF STABLE</td>\n      <td>APPLE SAUCE</td>\n      <td>50 OZ</td>\n    </tr>\n    <tr>\n      <th>4</th>\n      <td>26355</td>\n      <td>69</td>\n      <td>GROCERY</td>\n      <td>Private</td>\n      <td>COOKIES/CONES</td>\n      <td>SPECIALTY COOKIES</td>\n      <td>14 OZ</td>\n    </tr>\n  </tbody>\n</table>\n</div>"
     },
     "metadata": {},
     "execution_count": 17
    }
   ],
   "source": [
    "items = pd.read_csv('./data/product.csv')\n",
    "items.columns = [col.lower() for col in items.columns]\n",
    "items.head(5)"
   ]
  },
  {
   "cell_type": "code",
   "execution_count": 18,
   "metadata": {},
   "outputs": [
    {
     "output_type": "execute_result",
     "data": {
      "text/plain": [
       "   item_id  manufacturer    department     brand            commodity_desc  \\\n",
       "0    25671             2       GROCERY  National                  FRZN ICE   \n",
       "1    26081             2  MISC. TRANS.  National  NO COMMODITY DESCRIPTION   \n",
       "2    26093            69        PASTRY   Private                     BREAD   \n",
       "3    26190            69       GROCERY   Private      FRUIT - SHELF STABLE   \n",
       "4    26355            69       GROCERY   Private             COOKIES/CONES   \n",
       "\n",
       "            sub_commodity_desc curr_size_of_product  \n",
       "0          ICE - CRUSHED/CUBED                22 LB  \n",
       "1  NO SUBCOMMODITY DESCRIPTION                       \n",
       "2         BREAD:ITALIAN/FRENCH                       \n",
       "3                  APPLE SAUCE                50 OZ  \n",
       "4            SPECIALTY COOKIES                14 OZ  "
      ],
      "text/html": "<div>\n<style scoped>\n    .dataframe tbody tr th:only-of-type {\n        vertical-align: middle;\n    }\n\n    .dataframe tbody tr th {\n        vertical-align: top;\n    }\n\n    .dataframe thead th {\n        text-align: right;\n    }\n</style>\n<table border=\"1\" class=\"dataframe\">\n  <thead>\n    <tr style=\"text-align: right;\">\n      <th></th>\n      <th>item_id</th>\n      <th>manufacturer</th>\n      <th>department</th>\n      <th>brand</th>\n      <th>commodity_desc</th>\n      <th>sub_commodity_desc</th>\n      <th>curr_size_of_product</th>\n    </tr>\n  </thead>\n  <tbody>\n    <tr>\n      <th>0</th>\n      <td>25671</td>\n      <td>2</td>\n      <td>GROCERY</td>\n      <td>National</td>\n      <td>FRZN ICE</td>\n      <td>ICE - CRUSHED/CUBED</td>\n      <td>22 LB</td>\n    </tr>\n    <tr>\n      <th>1</th>\n      <td>26081</td>\n      <td>2</td>\n      <td>MISC. TRANS.</td>\n      <td>National</td>\n      <td>NO COMMODITY DESCRIPTION</td>\n      <td>NO SUBCOMMODITY DESCRIPTION</td>\n      <td></td>\n    </tr>\n    <tr>\n      <th>2</th>\n      <td>26093</td>\n      <td>69</td>\n      <td>PASTRY</td>\n      <td>Private</td>\n      <td>BREAD</td>\n      <td>BREAD:ITALIAN/FRENCH</td>\n      <td></td>\n    </tr>\n    <tr>\n      <th>3</th>\n      <td>26190</td>\n      <td>69</td>\n      <td>GROCERY</td>\n      <td>Private</td>\n      <td>FRUIT - SHELF STABLE</td>\n      <td>APPLE SAUCE</td>\n      <td>50 OZ</td>\n    </tr>\n    <tr>\n      <th>4</th>\n      <td>26355</td>\n      <td>69</td>\n      <td>GROCERY</td>\n      <td>Private</td>\n      <td>COOKIES/CONES</td>\n      <td>SPECIALTY COOKIES</td>\n      <td>14 OZ</td>\n    </tr>\n  </tbody>\n</table>\n</div>"
     },
     "metadata": {},
     "execution_count": 18
    }
   ],
   "source": [
    "items.rename(columns={'product_id': 'item_id'}, inplace=True)\n",
    "items.head(5)"
   ]
  },
  {
   "cell_type": "code",
   "execution_count": 8,
   "metadata": {},
   "outputs": [
    {
     "output_type": "execute_result",
     "data": {
      "text/plain": [
       "   user_id                                             actual\n",
       "0        1  [821867, 834484, 856942, 865456, 889248, 90795...\n",
       "1        3  [835476, 851057, 872021, 878302, 879948, 90963..."
      ],
      "text/html": "<div>\n<style scoped>\n    .dataframe tbody tr th:only-of-type {\n        vertical-align: middle;\n    }\n\n    .dataframe tbody tr th {\n        vertical-align: top;\n    }\n\n    .dataframe thead th {\n        text-align: right;\n    }\n</style>\n<table border=\"1\" class=\"dataframe\">\n  <thead>\n    <tr style=\"text-align: right;\">\n      <th></th>\n      <th>user_id</th>\n      <th>actual</th>\n    </tr>\n  </thead>\n  <tbody>\n    <tr>\n      <th>0</th>\n      <td>1</td>\n      <td>[821867, 834484, 856942, 865456, 889248, 90795...</td>\n    </tr>\n    <tr>\n      <th>1</th>\n      <td>3</td>\n      <td>[835476, 851057, 872021, 878302, 879948, 90963...</td>\n    </tr>\n  </tbody>\n</table>\n</div>"
     },
     "metadata": {},
     "execution_count": 8
    }
   ],
   "source": [
    "result = data_test.groupby('user_id')['item_id'].unique().reset_index()\n",
    "result.columns=['user_id', 'actual']\n",
    "result.head(2)"
   ]
  },
  {
   "cell_type": "code",
   "execution_count": 9,
   "metadata": {},
   "outputs": [],
   "source": [
    "popularity = data_train.groupby('item_id')['quantity'].sum().reset_index()\n",
    "popularity.rename(columns={'quantity': 'n_sold'}, inplace=True)\n",
    "top_5000 = popularity.sort_values('n_sold', ascending=False).head(5000).item_id.tolist()"
   ]
  },
  {
   "cell_type": "code",
   "execution_count": 12,
   "metadata": {},
   "outputs": [
    {
     "output_type": "execute_result",
     "data": {
      "text/plain": [
       "item_id  202291    397896    420647    480014    545926    707683    731106    \\\n",
       "user_id                                                                         \n",
       "1             0.0       0.0       0.0       0.0       0.0       0.0       0.0   \n",
       "2             0.0       0.0       0.0       0.0       0.0       0.0       0.0   \n",
       "3             0.0       0.0       0.0       0.0       0.0       0.0       0.0   \n",
       "\n",
       "item_id  818980    819063    819227    ...  15778533  15831255  15926712  \\\n",
       "user_id                                ...                                 \n",
       "1             0.0       0.0       0.0  ...       0.0       0.0       0.0   \n",
       "2             0.0       0.0       0.0  ...       0.0       0.0       0.0   \n",
       "3             0.0       0.0       0.0  ...       0.0       0.0       0.0   \n",
       "\n",
       "item_id  15926775  15926844  15926886  15927403  15927661  15927850  16809471  \n",
       "user_id                                                                        \n",
       "1             0.0       1.0       0.0       0.0       0.0       0.0       0.0  \n",
       "2             0.0       0.0       0.0       0.0       0.0       0.0       0.0  \n",
       "3             0.0       0.0       0.0       0.0       0.0       0.0       0.0  \n",
       "\n",
       "[3 rows x 5001 columns]"
      ],
      "text/html": "<div>\n<style scoped>\n    .dataframe tbody tr th:only-of-type {\n        vertical-align: middle;\n    }\n\n    .dataframe tbody tr th {\n        vertical-align: top;\n    }\n\n    .dataframe thead th {\n        text-align: right;\n    }\n</style>\n<table border=\"1\" class=\"dataframe\">\n  <thead>\n    <tr style=\"text-align: right;\">\n      <th>item_id</th>\n      <th>202291</th>\n      <th>397896</th>\n      <th>420647</th>\n      <th>480014</th>\n      <th>545926</th>\n      <th>707683</th>\n      <th>731106</th>\n      <th>818980</th>\n      <th>819063</th>\n      <th>819227</th>\n      <th>...</th>\n      <th>15778533</th>\n      <th>15831255</th>\n      <th>15926712</th>\n      <th>15926775</th>\n      <th>15926844</th>\n      <th>15926886</th>\n      <th>15927403</th>\n      <th>15927661</th>\n      <th>15927850</th>\n      <th>16809471</th>\n    </tr>\n    <tr>\n      <th>user_id</th>\n      <th></th>\n      <th></th>\n      <th></th>\n      <th></th>\n      <th></th>\n      <th></th>\n      <th></th>\n      <th></th>\n      <th></th>\n      <th></th>\n      <th></th>\n      <th></th>\n      <th></th>\n      <th></th>\n      <th></th>\n      <th></th>\n      <th></th>\n      <th></th>\n      <th></th>\n      <th></th>\n      <th></th>\n    </tr>\n  </thead>\n  <tbody>\n    <tr>\n      <th>1</th>\n      <td>0.0</td>\n      <td>0.0</td>\n      <td>0.0</td>\n      <td>0.0</td>\n      <td>0.0</td>\n      <td>0.0</td>\n      <td>0.0</td>\n      <td>0.0</td>\n      <td>0.0</td>\n      <td>0.0</td>\n      <td>...</td>\n      <td>0.0</td>\n      <td>0.0</td>\n      <td>0.0</td>\n      <td>0.0</td>\n      <td>1.0</td>\n      <td>0.0</td>\n      <td>0.0</td>\n      <td>0.0</td>\n      <td>0.0</td>\n      <td>0.0</td>\n    </tr>\n    <tr>\n      <th>2</th>\n      <td>0.0</td>\n      <td>0.0</td>\n      <td>0.0</td>\n      <td>0.0</td>\n      <td>0.0</td>\n      <td>0.0</td>\n      <td>0.0</td>\n      <td>0.0</td>\n      <td>0.0</td>\n      <td>0.0</td>\n      <td>...</td>\n      <td>0.0</td>\n      <td>0.0</td>\n      <td>0.0</td>\n      <td>0.0</td>\n      <td>0.0</td>\n      <td>0.0</td>\n      <td>0.0</td>\n      <td>0.0</td>\n      <td>0.0</td>\n      <td>0.0</td>\n    </tr>\n    <tr>\n      <th>3</th>\n      <td>0.0</td>\n      <td>0.0</td>\n      <td>0.0</td>\n      <td>0.0</td>\n      <td>0.0</td>\n      <td>0.0</td>\n      <td>0.0</td>\n      <td>0.0</td>\n      <td>0.0</td>\n      <td>0.0</td>\n      <td>...</td>\n      <td>0.0</td>\n      <td>0.0</td>\n      <td>0.0</td>\n      <td>0.0</td>\n      <td>0.0</td>\n      <td>0.0</td>\n      <td>0.0</td>\n      <td>0.0</td>\n      <td>0.0</td>\n      <td>0.0</td>\n    </tr>\n  </tbody>\n</table>\n<p>3 rows × 5001 columns</p>\n</div>"
     },
     "metadata": {},
     "execution_count": 12
    }
   ],
   "source": [
    "data_train.loc[~data_train['item_id'].isin(top_5000), 'item_id'] = 999999\n",
    "user_item_matrix = pd.pivot_table(data_train, \n",
    "                                  index='user_id', columns='item_id', \n",
    "                                  values='quantity',\n",
    "                                  aggfunc='count', \n",
    "                                  fill_value=0)\n",
    "user_item_matrix = user_item_matrix.astype(float)\n",
    "sparse_user_item = csr_matrix(user_item_matrix).tocsr()\n",
    "user_item_matrix.head(3)"
   ]
  },
  {
   "cell_type": "code",
   "execution_count": 14,
   "metadata": {},
   "outputs": [],
   "source": [
    "userids = user_item_matrix.index.values\n",
    "itemids = user_item_matrix.columns.values\n",
    "matrix_userids = np.arange(len(userids))\n",
    "matrix_itemids = np.arange(len(itemids))\n",
    "id_to_itemid = dict(zip(matrix_itemids, itemids))\n",
    "id_to_userid = dict(zip(matrix_userids, userids))\n",
    "itemid_to_id = dict(zip(itemids, matrix_itemids))\n",
    "userid_to_id = dict(zip(userids, matrix_userids))\n",
    "\n",
    "csr_mat = csr_matrix(user_item_matrix).T.tocsr()\n",
    "bm25_weight_matrix = bm25_weight(user_item_matrix.T).T \n",
    "tfidf_matrix = tfidf_weight(user_item_matrix.T).T"
   ]
  },
  {
   "cell_type": "code",
   "execution_count": 17,
   "metadata": {},
   "outputs": [],
   "source": [
    "mu = user_item_matrix.mean().mean()\n",
    "ru = user_item_matrix.mean(axis=1)\n",
    "cosine_matrix = (user_item_matrix.T - ru.values - mu).T"
   ]
  },
  {
   "cell_type": "code",
   "execution_count": 29,
   "metadata": {},
   "outputs": [],
   "source": [
    "regularization_coeffs = [0.1, 1, 10, 100, 1000]\n",
    "factors = [5, 10, 20, 40, 80]\n",
    "matrixes = {\n",
    "    'user_item': user_item_matrix,\n",
    "    'bm25': bm25_weight_matrix,\n",
    "    'tfidf': tfidf_matrix,\n",
    "    'cosine': cosine_matrix\n",
    "}"
   ]
  },
  {
   "cell_type": "code",
   "execution_count": 32,
   "metadata": {},
   "outputs": [
    {
     "output_type": "stream",
     "name": "stderr",
     "text": [
      "100%|██████████| 10/10 [00:01<00:00,  7.51it/s, loss=0.0634]\n",
      "100%|██████████| 10/10 [00:01<00:00,  7.22it/s, loss=0.148]\n",
      "100%|██████████| 10/10 [00:01<00:00,  7.49it/s, loss=0.102]\n",
      "100%|██████████| 10/10 [00:10<00:00,  1.01s/it, loss=0.779]\n",
      "100%|██████████| 10/10 [00:01<00:00,  6.84it/s, loss=0.0597]\n",
      "100%|██████████| 10/10 [00:01<00:00,  6.70it/s, loss=0.137]\n",
      "100%|██████████| 10/10 [00:01<00:00,  6.66it/s, loss=0.0968]\n",
      "100%|██████████| 10/10 [00:12<00:00,  1.26s/it, loss=0.772]\n",
      "100%|██████████| 10/10 [00:02<00:00,  4.98it/s, loss=0.0559]\n",
      "100%|██████████| 10/10 [00:02<00:00,  4.73it/s, loss=0.125]\n",
      "100%|██████████| 10/10 [00:02<00:00,  4.74it/s, loss=0.0914]\n",
      "100%|██████████| 10/10 [00:17<00:00,  1.73s/it, loss=0.763]\n",
      "100%|██████████| 10/10 [00:02<00:00,  3.93it/s, loss=0.0513]\n",
      "100%|██████████| 10/10 [00:02<00:00,  3.51it/s, loss=0.11]\n",
      "100%|██████████| 10/10 [00:02<00:00,  3.88it/s, loss=0.0844]\n",
      "100%|██████████| 10/10 [00:17<00:00,  1.74s/it, loss=0.754]\n",
      "100%|██████████| 10/10 [00:03<00:00,  3.11it/s, loss=0.0453]\n",
      "100%|██████████| 10/10 [00:03<00:00,  3.12it/s, loss=0.0914]\n",
      "100%|██████████| 10/10 [00:03<00:00,  3.11it/s, loss=0.0744]\n",
      "100%|██████████| 10/10 [00:22<00:00,  2.28s/it, loss=0.744]\n",
      "100%|██████████| 10/10 [00:01<00:00,  7.57it/s, loss=0.063]\n",
      "100%|██████████| 10/10 [00:01<00:00,  7.42it/s, loss=0.149]\n",
      "100%|██████████| 10/10 [00:01<00:00,  7.48it/s, loss=0.102]\n",
      "100%|██████████| 10/10 [00:11<00:00,  1.13s/it, loss=0.778]\n",
      "100%|██████████| 10/10 [00:01<00:00,  6.56it/s, loss=0.0596]\n",
      "100%|██████████| 10/10 [00:01<00:00,  6.79it/s, loss=0.138]\n",
      "100%|██████████| 10/10 [00:01<00:00,  6.76it/s, loss=0.0976]\n",
      "100%|██████████| 10/10 [00:12<00:00,  1.29s/it, loss=0.772]\n",
      "100%|██████████| 10/10 [00:02<00:00,  4.70it/s, loss=0.0564]\n",
      "100%|██████████| 10/10 [00:02<00:00,  4.56it/s, loss=0.125]\n",
      "100%|██████████| 10/10 [00:02<00:00,  4.28it/s, loss=0.0924]\n",
      "100%|██████████| 10/10 [00:17<00:00,  1.79s/it, loss=0.766]\n",
      "100%|██████████| 10/10 [00:02<00:00,  3.87it/s, loss=0.0514]\n",
      "100%|██████████| 10/10 [00:02<00:00,  3.79it/s, loss=0.11]\n",
      "100%|██████████| 10/10 [00:02<00:00,  3.85it/s, loss=0.0853]\n",
      "100%|██████████| 10/10 [00:17<00:00,  1.74s/it, loss=0.756]\n",
      "100%|██████████| 10/10 [00:02<00:00,  3.49it/s, loss=0.0453]\n",
      "100%|██████████| 10/10 [00:03<00:00,  3.13it/s, loss=0.0913]\n",
      "100%|██████████| 10/10 [00:03<00:00,  3.27it/s, loss=0.075]\n",
      "100%|██████████| 10/10 [00:23<00:00,  2.36s/it, loss=0.745]\n",
      "100%|██████████| 10/10 [00:01<00:00,  7.45it/s, loss=0.0628]\n",
      "100%|██████████| 10/10 [00:01<00:00,  7.59it/s, loss=0.149]\n",
      "100%|██████████| 10/10 [00:01<00:00,  7.56it/s, loss=0.102]\n",
      "100%|██████████| 10/10 [00:10<00:00,  1.02s/it, loss=0.779]\n",
      "100%|██████████| 10/10 [00:01<00:00,  6.21it/s, loss=0.0603]\n",
      "100%|██████████| 10/10 [00:01<00:00,  6.25it/s, loss=0.139]\n",
      "100%|██████████| 10/10 [00:01<00:00,  6.12it/s, loss=0.0983]\n",
      "100%|██████████| 10/10 [00:13<00:00,  1.34s/it, loss=0.773]\n",
      "100%|██████████| 10/10 [00:02<00:00,  4.88it/s, loss=0.057]\n",
      "100%|██████████| 10/10 [00:02<00:00,  4.39it/s, loss=0.128]\n",
      "100%|██████████| 10/10 [00:02<00:00,  4.34it/s, loss=0.0941]\n",
      "100%|██████████| 10/10 [00:17<00:00,  1.78s/it, loss=0.768]\n",
      "100%|██████████| 10/10 [00:02<00:00,  3.91it/s, loss=0.0535]\n",
      "100%|██████████| 10/10 [00:02<00:00,  3.82it/s, loss=0.115]\n",
      "100%|██████████| 10/10 [00:02<00:00,  3.74it/s, loss=0.0885]\n",
      "100%|██████████| 10/10 [00:17<00:00,  1.77s/it, loss=0.762]\n",
      "100%|██████████| 10/10 [00:02<00:00,  3.37it/s, loss=0.0488]\n",
      "100%|██████████| 10/10 [00:03<00:00,  3.24it/s, loss=0.098]\n",
      "100%|██████████| 10/10 [00:03<00:00,  3.23it/s, loss=0.0807]\n",
      "100%|██████████| 10/10 [00:22<00:00,  2.27s/it, loss=0.755]\n",
      "100%|██████████| 10/10 [00:01<00:00,  7.44it/s, loss=0.0727]\n",
      "100%|██████████| 10/10 [00:01<00:00,  7.20it/s, loss=0.166]\n",
      "100%|██████████| 10/10 [00:01<00:00,  7.37it/s, loss=0.115]\n",
      "100%|██████████| 10/10 [00:10<00:00,  1.02s/it, loss=0.806]\n",
      "100%|██████████| 10/10 [00:01<00:00,  6.77it/s, loss=0.0723]\n",
      "100%|██████████| 10/10 [00:01<00:00,  6.55it/s, loss=0.162]\n",
      "100%|██████████| 10/10 [00:01<00:00,  6.45it/s, loss=0.115]\n",
      "100%|██████████| 10/10 [00:12<00:00,  1.26s/it, loss=0.805]\n",
      "100%|██████████| 10/10 [00:02<00:00,  4.92it/s, loss=0.0722]\n",
      "100%|██████████| 10/10 [00:02<00:00,  4.67it/s, loss=0.158]\n",
      "100%|██████████| 10/10 [00:02<00:00,  4.64it/s, loss=0.114]\n",
      "100%|██████████| 10/10 [00:17<00:00,  1.72s/it, loss=0.805]\n",
      "100%|██████████| 10/10 [00:02<00:00,  3.88it/s, loss=0.0724]\n",
      "100%|██████████| 10/10 [00:02<00:00,  3.75it/s, loss=0.155]\n",
      "100%|██████████| 10/10 [00:02<00:00,  3.80it/s, loss=0.114]\n",
      "100%|██████████| 10/10 [00:17<00:00,  1.70s/it, loss=0.805]\n",
      "100%|██████████| 10/10 [00:02<00:00,  3.41it/s, loss=0.0722]\n",
      "100%|██████████| 10/10 [00:03<00:00,  3.22it/s, loss=0.153]\n",
      "100%|██████████| 10/10 [00:03<00:00,  3.25it/s, loss=0.114]\n",
      "100%|██████████| 10/10 [00:23<00:00,  2.30s/it, loss=0.805]\n",
      "100%|██████████| 10/10 [00:01<00:00,  7.44it/s, loss=0.106]\n",
      "100%|██████████| 10/10 [00:01<00:00,  7.59it/s, loss=0.25]\n",
      "100%|██████████| 10/10 [00:01<00:00,  7.21it/s, loss=0.161]\n",
      "100%|██████████| 10/10 [00:10<00:00,  1.05s/it, loss=0.875]\n",
      "100%|██████████| 10/10 [00:01<00:00,  6.76it/s, loss=0.106]\n",
      "100%|██████████| 10/10 [00:01<00:00,  6.78it/s, loss=0.25]\n",
      "100%|██████████| 10/10 [00:01<00:00,  6.52it/s, loss=0.161]\n",
      "100%|██████████| 10/10 [00:12<00:00,  1.30s/it, loss=0.875]\n",
      "100%|██████████| 10/10 [00:02<00:00,  4.82it/s, loss=0.106]\n",
      "100%|██████████| 10/10 [00:02<00:00,  4.88it/s, loss=0.25]\n",
      "100%|██████████| 10/10 [00:02<00:00,  4.68it/s, loss=0.161]\n",
      "100%|██████████| 10/10 [00:16<00:00,  1.69s/it, loss=0.875]\n",
      "100%|██████████| 10/10 [00:02<00:00,  3.87it/s, loss=0.106]\n",
      "100%|██████████| 10/10 [00:02<00:00,  3.84it/s, loss=0.25]\n",
      "100%|██████████| 10/10 [00:02<00:00,  3.71it/s, loss=0.161]\n",
      "100%|██████████| 10/10 [00:17<00:00,  1.71s/it, loss=0.875]\n",
      "100%|██████████| 10/10 [00:02<00:00,  3.41it/s, loss=0.105]\n",
      "100%|██████████| 10/10 [00:03<00:00,  3.14it/s, loss=0.25]\n",
      "100%|██████████| 10/10 [00:03<00:00,  3.19it/s, loss=0.161]\n",
      "100%|██████████| 10/10 [00:22<00:00,  2.29s/it, loss=0.874]\n"
     ]
    }
   ],
   "source": [
    "for ref_coef in regularization_coeffs:\n",
    "    for factor in factors:\n",
    "        for matrix in matrixes:\n",
    "            model = AlternatingLeastSquares(\n",
    "                factors=factor,\n",
    "                regularization=ref_coef,\n",
    "                iterations=10, \n",
    "                calculate_training_loss=True, \n",
    "                num_threads=4\n",
    "            )\n",
    "            model.fit(csr_matrix(matrixes[matrix]).T.tocsr(), show_progress=True)\n",
    "            recs = model.recommend(\n",
    "                userid=userid_to_id[2],\n",
    "                user_items=csr_matrix(user_item_matrix).tocsr(),\n",
    "                N=5, \n",
    "                filter_already_liked_items=False,\n",
    "                filter_items=None, \n",
    "                recalculate_user=True\n",
    "            )\n",
    "            result[f'{matrix}-{factor}-{ref_coef}'] = result['user_id'].apply(lambda x: [id_to_itemid[rec[0]] for rec in recs])"
   ]
  },
  {
   "cell_type": "code",
   "execution_count": 33,
   "metadata": {},
   "outputs": [],
   "source": [
    "report = pd.DataFrame([\n",
    "    (model, round(result.apply(lambda row: precision_at_k(recommended_list=row[str(model)], bought_list=row['actual']), axis=1).mean(), 5)) for model in list(result)[2:]\n",
    "], columns=['The Name of the Model: ', 'precision@k'])"
   ]
  },
  {
   "cell_type": "code",
   "execution_count": 34,
   "metadata": {},
   "outputs": [
    {
     "output_type": "execute_result",
     "data": {
      "text/plain": [
       "   The Name of the Model:   precision@k\n",
       "0          user_item-5-0.1      0.17963\n",
       "2              tfidf-5-0.1      0.17963\n",
       "3             cosine-5-0.1      0.17963\n",
       "4         user_item-10-0.1      0.17963\n",
       "6             tfidf-10-0.1      0.17963\n",
       "7            cosine-10-0.1      0.17963\n",
       "11           cosine-20-0.1      0.17963\n",
       "15           cosine-40-0.1      0.17963\n",
       "20           user_item-5-1      0.17963\n",
       "22               tfidf-5-1      0.17963\n",
       "23              cosine-5-1      0.17963\n",
       "24          user_item-10-1      0.17963\n",
       "26              tfidf-10-1      0.17963\n",
       "27             cosine-10-1      0.17963\n",
       "31             cosine-20-1      0.17963\n",
       "35             cosine-40-1      0.17963\n",
       "40          user_item-5-10      0.17963\n",
       "42              tfidf-5-10      0.17963\n",
       "43             cosine-5-10      0.17963\n",
       "44         user_item-10-10      0.17963\n",
       "46             tfidf-10-10      0.17963\n",
       "47            cosine-10-10      0.17963\n",
       "48         user_item-20-10      0.17963\n",
       "51            cosine-20-10      0.17963\n",
       "60         user_item-5-100      0.17963\n",
       "62             tfidf-5-100      0.17963\n",
       "63            cosine-5-100      0.17963\n",
       "64        user_item-10-100      0.17963\n",
       "66            tfidf-10-100      0.17963\n",
       "67           cosine-10-100      0.17963\n",
       "68        user_item-20-100      0.17963\n",
       "70            tfidf-20-100      0.17963\n",
       "71           cosine-20-100      0.17963\n",
       "72        user_item-40-100      0.17963\n",
       "74            tfidf-40-100      0.17963\n",
       "75           cosine-40-100      0.17963\n",
       "76        user_item-80-100      0.17963\n",
       "78            tfidf-80-100      0.17963\n",
       "79           cosine-80-100      0.17963\n",
       "80        user_item-5-1000      0.17963\n",
       "82            tfidf-5-1000      0.17963\n",
       "83           cosine-5-1000      0.17963\n",
       "84       user_item-10-1000      0.17963\n",
       "86           tfidf-10-1000      0.17963\n",
       "87          cosine-10-1000      0.17963\n",
       "88       user_item-20-1000      0.17963\n",
       "90           tfidf-20-1000      0.17963\n",
       "91          cosine-20-1000      0.17963\n",
       "92       user_item-40-1000      0.17963\n",
       "94           tfidf-40-1000      0.17963\n",
       "95          cosine-40-1000      0.17963\n",
       "96       user_item-80-1000      0.17963\n",
       "98           tfidf-80-1000      0.17963\n",
       "99          cosine-80-1000      0.17963"
      ],
      "text/html": "<div>\n<style scoped>\n    .dataframe tbody tr th:only-of-type {\n        vertical-align: middle;\n    }\n\n    .dataframe tbody tr th {\n        vertical-align: top;\n    }\n\n    .dataframe thead th {\n        text-align: right;\n    }\n</style>\n<table border=\"1\" class=\"dataframe\">\n  <thead>\n    <tr style=\"text-align: right;\">\n      <th></th>\n      <th>The Name of the Model:</th>\n      <th>precision@k</th>\n    </tr>\n  </thead>\n  <tbody>\n    <tr>\n      <th>0</th>\n      <td>user_item-5-0.1</td>\n      <td>0.17963</td>\n    </tr>\n    <tr>\n      <th>2</th>\n      <td>tfidf-5-0.1</td>\n      <td>0.17963</td>\n    </tr>\n    <tr>\n      <th>3</th>\n      <td>cosine-5-0.1</td>\n      <td>0.17963</td>\n    </tr>\n    <tr>\n      <th>4</th>\n      <td>user_item-10-0.1</td>\n      <td>0.17963</td>\n    </tr>\n    <tr>\n      <th>6</th>\n      <td>tfidf-10-0.1</td>\n      <td>0.17963</td>\n    </tr>\n    <tr>\n      <th>7</th>\n      <td>cosine-10-0.1</td>\n      <td>0.17963</td>\n    </tr>\n    <tr>\n      <th>11</th>\n      <td>cosine-20-0.1</td>\n      <td>0.17963</td>\n    </tr>\n    <tr>\n      <th>15</th>\n      <td>cosine-40-0.1</td>\n      <td>0.17963</td>\n    </tr>\n    <tr>\n      <th>20</th>\n      <td>user_item-5-1</td>\n      <td>0.17963</td>\n    </tr>\n    <tr>\n      <th>22</th>\n      <td>tfidf-5-1</td>\n      <td>0.17963</td>\n    </tr>\n    <tr>\n      <th>23</th>\n      <td>cosine-5-1</td>\n      <td>0.17963</td>\n    </tr>\n    <tr>\n      <th>24</th>\n      <td>user_item-10-1</td>\n      <td>0.17963</td>\n    </tr>\n    <tr>\n      <th>26</th>\n      <td>tfidf-10-1</td>\n      <td>0.17963</td>\n    </tr>\n    <tr>\n      <th>27</th>\n      <td>cosine-10-1</td>\n      <td>0.17963</td>\n    </tr>\n    <tr>\n      <th>31</th>\n      <td>cosine-20-1</td>\n      <td>0.17963</td>\n    </tr>\n    <tr>\n      <th>35</th>\n      <td>cosine-40-1</td>\n      <td>0.17963</td>\n    </tr>\n    <tr>\n      <th>40</th>\n      <td>user_item-5-10</td>\n      <td>0.17963</td>\n    </tr>\n    <tr>\n      <th>42</th>\n      <td>tfidf-5-10</td>\n      <td>0.17963</td>\n    </tr>\n    <tr>\n      <th>43</th>\n      <td>cosine-5-10</td>\n      <td>0.17963</td>\n    </tr>\n    <tr>\n      <th>44</th>\n      <td>user_item-10-10</td>\n      <td>0.17963</td>\n    </tr>\n    <tr>\n      <th>46</th>\n      <td>tfidf-10-10</td>\n      <td>0.17963</td>\n    </tr>\n    <tr>\n      <th>47</th>\n      <td>cosine-10-10</td>\n      <td>0.17963</td>\n    </tr>\n    <tr>\n      <th>48</th>\n      <td>user_item-20-10</td>\n      <td>0.17963</td>\n    </tr>\n    <tr>\n      <th>51</th>\n      <td>cosine-20-10</td>\n      <td>0.17963</td>\n    </tr>\n    <tr>\n      <th>60</th>\n      <td>user_item-5-100</td>\n      <td>0.17963</td>\n    </tr>\n    <tr>\n      <th>62</th>\n      <td>tfidf-5-100</td>\n      <td>0.17963</td>\n    </tr>\n    <tr>\n      <th>63</th>\n      <td>cosine-5-100</td>\n      <td>0.17963</td>\n    </tr>\n    <tr>\n      <th>64</th>\n      <td>user_item-10-100</td>\n      <td>0.17963</td>\n    </tr>\n    <tr>\n      <th>66</th>\n      <td>tfidf-10-100</td>\n      <td>0.17963</td>\n    </tr>\n    <tr>\n      <th>67</th>\n      <td>cosine-10-100</td>\n      <td>0.17963</td>\n    </tr>\n    <tr>\n      <th>68</th>\n      <td>user_item-20-100</td>\n      <td>0.17963</td>\n    </tr>\n    <tr>\n      <th>70</th>\n      <td>tfidf-20-100</td>\n      <td>0.17963</td>\n    </tr>\n    <tr>\n      <th>71</th>\n      <td>cosine-20-100</td>\n      <td>0.17963</td>\n    </tr>\n    <tr>\n      <th>72</th>\n      <td>user_item-40-100</td>\n      <td>0.17963</td>\n    </tr>\n    <tr>\n      <th>74</th>\n      <td>tfidf-40-100</td>\n      <td>0.17963</td>\n    </tr>\n    <tr>\n      <th>75</th>\n      <td>cosine-40-100</td>\n      <td>0.17963</td>\n    </tr>\n    <tr>\n      <th>76</th>\n      <td>user_item-80-100</td>\n      <td>0.17963</td>\n    </tr>\n    <tr>\n      <th>78</th>\n      <td>tfidf-80-100</td>\n      <td>0.17963</td>\n    </tr>\n    <tr>\n      <th>79</th>\n      <td>cosine-80-100</td>\n      <td>0.17963</td>\n    </tr>\n    <tr>\n      <th>80</th>\n      <td>user_item-5-1000</td>\n      <td>0.17963</td>\n    </tr>\n    <tr>\n      <th>82</th>\n      <td>tfidf-5-1000</td>\n      <td>0.17963</td>\n    </tr>\n    <tr>\n      <th>83</th>\n      <td>cosine-5-1000</td>\n      <td>0.17963</td>\n    </tr>\n    <tr>\n      <th>84</th>\n      <td>user_item-10-1000</td>\n      <td>0.17963</td>\n    </tr>\n    <tr>\n      <th>86</th>\n      <td>tfidf-10-1000</td>\n      <td>0.17963</td>\n    </tr>\n    <tr>\n      <th>87</th>\n      <td>cosine-10-1000</td>\n      <td>0.17963</td>\n    </tr>\n    <tr>\n      <th>88</th>\n      <td>user_item-20-1000</td>\n      <td>0.17963</td>\n    </tr>\n    <tr>\n      <th>90</th>\n      <td>tfidf-20-1000</td>\n      <td>0.17963</td>\n    </tr>\n    <tr>\n      <th>91</th>\n      <td>cosine-20-1000</td>\n      <td>0.17963</td>\n    </tr>\n    <tr>\n      <th>92</th>\n      <td>user_item-40-1000</td>\n      <td>0.17963</td>\n    </tr>\n    <tr>\n      <th>94</th>\n      <td>tfidf-40-1000</td>\n      <td>0.17963</td>\n    </tr>\n    <tr>\n      <th>95</th>\n      <td>cosine-40-1000</td>\n      <td>0.17963</td>\n    </tr>\n    <tr>\n      <th>96</th>\n      <td>user_item-80-1000</td>\n      <td>0.17963</td>\n    </tr>\n    <tr>\n      <th>98</th>\n      <td>tfidf-80-1000</td>\n      <td>0.17963</td>\n    </tr>\n    <tr>\n      <th>99</th>\n      <td>cosine-80-1000</td>\n      <td>0.17963</td>\n    </tr>\n  </tbody>\n</table>\n</div>"
     },
     "metadata": {},
     "execution_count": 34
    }
   ],
   "source": [
    "report.groupby('precision@k').get_group(report['precision@k'].max())"
   ]
  }
 ],
 "metadata": {
  "kernelspec": {
   "display_name": "Python 3",
   "language": "python",
   "name": "python3"
  },
  "language_info": {
   "codemirror_mode": {
    "name": "ipython",
    "version": 3
   },
   "file_extension": ".py",
   "mimetype": "text/x-python",
   "name": "python",
   "nbconvert_exporter": "python",
   "pygments_lexer": "ipython3",
   "version": "3.9.0-final"
  }
 },
 "nbformat": 4,
 "nbformat_minor": 2
}